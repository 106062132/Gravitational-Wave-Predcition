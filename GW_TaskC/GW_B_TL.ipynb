{
 "cells": [
  {
   "cell_type": "code",
   "execution_count": 1,
   "metadata": {},
   "outputs": [],
   "source": [
    "import h5py  \n",
    "import numpy as np\n",
    "import pandas as pd\n",
    "import matplotlib.pyplot as plt\n",
    "import tensorflow as tf\n",
    "import keras"
   ]
  },
  {
   "cell_type": "markdown",
   "metadata": {},
   "source": [
    "# Preprocessing"
   ]
  },
  {
   "cell_type": "code",
   "execution_count": 2,
   "metadata": {},
   "outputs": [],
   "source": [
    "#If using GPU.\n",
    "physical_devices = tf.config.experimental.list_physical_devices('GPU')\n",
    "assert len(physical_devices) > 0, \"Not enough GPU hardware devices available\"\n",
    "tf.config.experimental.set_memory_growth(physical_devices[0], True)"
   ]
  },
  {
   "cell_type": "code",
   "execution_count": 3,
   "metadata": {},
   "outputs": [
    {
     "data": {
      "text/plain": [
       "<KeysViewHDF5 ['reduced_data', 'waveforms', 'yeofrho']>"
      ]
     },
     "execution_count": 3,
     "metadata": {},
     "output_type": "execute_result"
    }
   ],
   "source": [
    "#read database.\n",
    "f = h5py.File('GWdatabase.h5','r')   \n",
    "f.keys()   "
   ]
  },
  {
   "cell_type": "code",
   "execution_count": 4,
   "metadata": {},
   "outputs": [],
   "source": [
    "#create a list that contains all the failure cases.\n",
    "fail_num = []\n",
    "index = 0\n",
    "for item in f['reduced_data']['tbounce(s)']:\n",
    "    if(item == -1):\n",
    "        fail_num.append(index)\n",
    "    index += 1\n",
    "fail_case = []\n",
    "for index in fail_num:\n",
    "    fail_case.append([f['reduced_data']['A(km)'][index],f['reduced_data']['omega_0(rad|s)'][index],f['reduced_data']['EOS'][index]])\n",
    "fail_list= []\n",
    "for item in fail_case:\n",
    "    tmp = str(item[2]).split(\"b'\")[1].split(\"'\")[0]\n",
    "    tmp = \"A\" + str(int(item[0])) + \"w\" + str(item[1]) + \"0_\" + tmp\n",
    "    fail_list.append(tmp)    "
   ]
  },
  {
   "cell_type": "markdown",
   "metadata": {},
   "source": [
    "# Choose which label we want to predict "
   ]
  },
  {
   "cell_type": "code",
   "execution_count": 5,
   "metadata": {},
   "outputs": [],
   "source": [
    "#get the label of w.\n",
    "labels = []\n",
    "index = 0\n",
    "for item in f['waveforms']:\n",
    "    if(item not in fail_list):\n",
    "        labels.append(float(item.split('_')[0].split('w')[1]))\n",
    "    index += 1"
   ]
  },
  {
   "cell_type": "markdown",
   "metadata": {},
   "source": [
    "# Get data"
   ]
  },
  {
   "cell_type": "code",
   "execution_count": 6,
   "metadata": {},
   "outputs": [],
   "source": [
    "#read image data.\n",
    "from PIL import Image\n",
    "import numpy as np\n",
    "data = []\n",
    "index = 0\n",
    "for item in f['waveforms']:\n",
    "    if(item not in fail_list):\n",
    "        title = 'Final_tbounce/'+ str(index) + '.jpeg'\n",
    "        image = Image.open(title).convert('L')\n",
    "        data.append(np.array(image))\n",
    "    index += 1"
   ]
  },
  {
   "cell_type": "code",
   "execution_count": 7,
   "metadata": {},
   "outputs": [
    {
     "data": {
      "text/plain": [
       "<matplotlib.image.AxesImage at 0x7fd0b0e42f40>"
      ]
     },
     "execution_count": 7,
     "metadata": {},
     "output_type": "execute_result"
    },
    {
     "data": {
      "image/png": "[encoded data removed]",
      "text/plain": [
       "<Figure size 256x256 with 1 Axes>"
      ]
     },
     "metadata": {
      "needs_background": "light"
     },
     "output_type": "display_data"
    }
   ],
   "source": [
    "#check the data.\n",
    "plt.figure(figsize=(4, 4), dpi=64)\n",
    "plt.imshow(data[5], cmap='gray')"
   ]
  },
  {
   "cell_type": "code",
   "execution_count": 8,
   "metadata": {},
   "outputs": [],
   "source": [
    "#transform the data type to numpy array\n",
    "data = np.array(data)\n",
    "X_train = data\n",
    "y_train = labels"
   ]
  },
  {
   "cell_type": "markdown",
   "metadata": {},
   "source": [
    "# Model"
   ]
  },
  {
   "cell_type": "code",
   "execution_count": 9,
   "metadata": {},
   "outputs": [],
   "source": [
    "from sklearn.metrics import accuracy_score, confusion_matrix, roc_curve, roc_auc_score\n",
    "from sklearn.model_selection import train_test_split, GridSearchCV\n",
    "import keras\n",
    "from keras.models import Sequential\n",
    "from keras.layers import Dense, Dropout, Flatten\n",
    "from keras.layers.convolutional import Conv2D, MaxPooling2D\n",
    "#from keras.utils import np_utilsy\n",
    "from keras import backend as K\n",
    "import os\n",
    "import gc"
   ]
  },
  {
   "cell_type": "code",
   "execution_count": 10,
   "metadata": {},
   "outputs": [
    {
     "data": {
      "text/plain": [
       "(1764, 256, 256)"
      ]
     },
     "execution_count": 10,
     "metadata": {},
     "output_type": "execute_result"
    }
   ],
   "source": [
    "X_train.shape"
   ]
  },
  {
   "cell_type": "code",
   "execution_count": 11,
   "metadata": {},
   "outputs": [],
   "source": [
    "#transfer the data shape for model training\n",
    "X_train = X_train.reshape(X_train.shape[0], 256, 256, 1)"
   ]
  },
  {
   "cell_type": "code",
   "execution_count": 12,
   "metadata": {},
   "outputs": [],
   "source": [
    "#using one hot to encode the label.\n",
    "from sklearn.preprocessing import LabelEncoder\n",
    "\n",
    "label_encoder = LabelEncoder()\n",
    "label_encoder.fit(y_train)\n",
    "\n",
    "def label_encode(le, labels):\n",
    "    enc = le.transform(labels)\n",
    "    return keras.utils.to_categorical(enc)\n",
    "\n",
    "def label_decode(le, one_hot_label):\n",
    "    dec = np.argmax(one_hot_label, axis=1)\n",
    "    return le.inverse_transform(dec)\n",
    "\n",
    "y_train = label_encode(label_encoder, y_train)"
   ]
  },
  {
   "cell_type": "code",
   "execution_count": 13,
   "metadata": {},
   "outputs": [],
   "source": [
    "from tensorflow.keras.layers import Dense, Input, Dropout,Flatten, Conv2D\n",
    "from tensorflow.keras.layers import BatchNormalization, Activation, MaxPooling2D\n",
    "from tensorflow.keras.models import Model, Sequential\n",
    "from tensorflow.keras.optimizers import Adam, SGD\n",
    "from tensorflow.keras.callbacks import ModelCheckpoint, ReduceLROnPlateau\n",
    "from tensorflow.keras.utils import plot_model\n",
    "from keras.layers import Concatenate\n",
    "from keras.models import Model"
   ]
  },
  {
   "cell_type": "markdown",
   "metadata": {},
   "source": [
    "# Transfer Learning"
   ]
  },
  {
   "cell_type": "code",
   "execution_count": 14,
   "metadata": {},
   "outputs": [],
   "source": [
    "model_encoder = Sequential()\n",
    "model_encoder.add(Conv2D(64, (5, 5), input_shape=(256, 256, 1), padding=\"same\", activation='relu'))\n",
    "model_encoder.add(MaxPooling2D(pool_size=(2, 2)))\n",
    "model_encoder.add(Conv2D(128, (5, 5), padding=\"same\", activation='relu'))\n",
    "model_encoder.add(MaxPooling2D(pool_size=(2, 2)))\n",
    "model_encoder.add(Conv2D(256, (5, 5), padding=\"same\", activation='relu'))\n",
    "model_encoder.add(MaxPooling2D(pool_size=(2, 2)))\n",
    "model_encoder.add(Conv2D(256, (3, 3), padding=\"same\", activation='relu'))\n",
    "model_encoder.add(MaxPooling2D(pool_size=(2, 2)))\n",
    "model_encoder.add(Conv2D(256, (3, 3), padding=\"same\", activation='relu'))\n",
    "model_encoder.add(MaxPooling2D(pool_size=(2, 2)))\n",
    "model_encoder.add(Dropout(0.5))\n",
    "model_encoder.add(Flatten())\n",
    "model_decoder = Sequential()\n",
    "model_decoder.add(Dense(1024, activation='relu'))\n",
    "model_decoder.add(Dense(512, activation='relu'))\n",
    "model_decoder.add(Dense(128, activation='relu'))\n",
    "model_decoder.add(Dense(32, activation='softmax'))"
   ]
  },
  {
   "cell_type": "code",
   "execution_count": 15,
   "metadata": {},
   "outputs": [],
   "source": [
    "model_1 = Sequential()\n",
    "model_1.add(model_encoder)\n",
    "model_1.add(model_decoder)\n",
    "optimizer = keras.optimizers.Adam(learning_rate=0.00001)\n",
    "model_1.compile(loss='categorical_crossentropy', optimizer=optimizer, metrics=['acc'])"
   ]
  },
  {
   "cell_type": "code",
   "execution_count": 16,
   "metadata": {},
   "outputs": [
    {
     "name": "stdout",
     "output_type": "stream",
     "text": [
      "Epoch 1/40\n",
      "441/441 [==============================] - 17s 33ms/step - loss: 4.4818 - acc: 0.0443\n",
      "Epoch 2/40\n",
      "441/441 [==============================] - 15s 33ms/step - loss: 3.4164 - acc: 0.0375 0s - loss: 3.4172\n",
      "Epoch 3/40\n",
      "441/441 [==============================] - 15s 33ms/step - loss: 3.3478 - acc: 0.0585\n",
      "Epoch 4/40\n",
      "441/441 [==============================] - 15s 34ms/step - loss: 3.2226 - acc: 0.0900\n",
      "Epoch 5/40\n",
      "441/441 [==============================] - 15s 34ms/step - loss: 2.9095 - acc: 0.1412\n",
      "Epoch 6/40\n",
      "441/441 [==============================] - 15s 34ms/step - loss: 2.5819 - acc: 0.1561\n",
      "Epoch 7/40\n",
      "441/441 [==============================] - 15s 34ms/step - loss: 2.3369 - acc: 0.2247\n",
      "Epoch 8/40\n",
      "441/441 [==============================] - 15s 34ms/step - loss: 2.1911 - acc: 0.2380\n",
      "Epoch 9/40\n",
      "441/441 [==============================] - 15s 34ms/step - loss: 2.0552 - acc: 0.2639\n",
      "Epoch 10/40\n",
      "441/441 [==============================] - 15s 34ms/step - loss: 1.9221 - acc: 0.2915 0s - loss: 1.9231\n",
      "Epoch 11/40\n",
      "441/441 [==============================] - 15s 34ms/step - loss: 1.8035 - acc: 0.3327 1s - loss\n",
      "Epoch 12/40\n",
      "441/441 [==============================] - 15s 34ms/step - loss: 1.7392 - acc: 0.3421 0s - loss: 1.7394 - acc: 0.34\n",
      "Epoch 13/40\n",
      "441/441 [==============================] - 15s 34ms/step - loss: 1.6487 - acc: 0.3742\n",
      "Epoch 14/40\n",
      "441/441 [==============================] - 15s 34ms/step - loss: 1.6031 - acc: 0.3905\n",
      "Epoch 15/40\n",
      "441/441 [==============================] - 15s 34ms/step - loss: 1.4266 - acc: 0.4511\n",
      "Epoch 16/40\n",
      "441/441 [==============================] - 15s 34ms/step - loss: 1.4296 - acc: 0.4310 4s - loss\n",
      "Epoch 17/40\n",
      "441/441 [==============================] - 15s 34ms/step - loss: 1.3740 - acc: 0.4463 1s -\n",
      "Epoch 18/40\n",
      "441/441 [==============================] - 15s 34ms/step - loss: 1.3299 - acc: 0.4681\n",
      "Epoch 19/40\n",
      "441/441 [==============================] - 15s 34ms/step - loss: 1.2451 - acc: 0.5170\n",
      "Epoch 20/40\n",
      "441/441 [==============================] - 15s 34ms/step - loss: 1.1882 - acc: 0.5252 0s - loss: 1.1882 - acc: 0.52\n",
      "Epoch 21/40\n",
      "441/441 [==============================] - 15s 34ms/step - loss: 1.0989 - acc: 0.5391\n",
      "Epoch 22/40\n",
      "441/441 [==============================] - 15s 34ms/step - loss: 1.0416 - acc: 0.5709\n",
      "Epoch 23/40\n",
      "441/441 [==============================] - 15s 34ms/step - loss: 0.9862 - acc: 0.6076 0s - loss: 0.9854 -\n",
      "Epoch 24/40\n",
      "441/441 [==============================] - 15s 34ms/step - loss: 0.9409 - acc: 0.6200\n",
      "Epoch 25/40\n",
      "441/441 [==============================] - 15s 34ms/step - loss: 0.9340 - acc: 0.6234\n",
      "Epoch 26/40\n",
      "441/441 [==============================] - 15s 34ms/step - loss: 0.8719 - acc: 0.6600\n",
      "Epoch 27/40\n",
      "441/441 [==============================] - 15s 34ms/step - loss: 0.8058 - acc: 0.6746\n",
      "Epoch 28/40\n",
      "441/441 [==============================] - 15s 34ms/step - loss: 0.7526 - acc: 0.7015\n",
      "Epoch 29/40\n",
      "441/441 [==============================] - 15s 34ms/step - loss: 0.7233 - acc: 0.7231\n",
      "Epoch 30/40\n",
      "441/441 [==============================] - 15s 34ms/step - loss: 0.7070 - acc: 0.7068\n",
      "Epoch 31/40\n",
      "441/441 [==============================] - 15s 34ms/step - loss: 0.6343 - acc: 0.7784\n",
      "Epoch 32/40\n",
      "441/441 [==============================] - 15s 35ms/step - loss: 0.6138 - acc: 0.7535\n",
      "Epoch 33/40\n",
      "441/441 [==============================] - 15s 35ms/step - loss: 0.5993 - acc: 0.7767\n",
      "Epoch 34/40\n",
      "441/441 [==============================] - 15s 35ms/step - loss: 0.5534 - acc: 0.8004\n",
      "Epoch 35/40\n",
      "441/441 [==============================] - 15s 35ms/step - loss: 0.5289 - acc: 0.7877\n",
      "Epoch 36/40\n",
      "441/441 [==============================] - 15s 35ms/step - loss: 0.4927 - acc: 0.8108\n",
      "Epoch 37/40\n",
      "441/441 [==============================] - 15s 35ms/step - loss: 0.4739 - acc: 0.8209\n",
      "Epoch 38/40\n",
      "441/441 [==============================] - 15s 35ms/step - loss: 0.4346 - acc: 0.8391\n",
      "Epoch 39/40\n",
      "441/441 [==============================] - 15s 35ms/step - loss: 0.4049 - acc: 0.8512\n",
      "Epoch 40/40\n",
      "441/441 [==============================] - 15s 35ms/step - loss: 0.4166 - acc: 0.8314\n"
     ]
    }
   ],
   "source": [
    "history = model_1.fit(x=X_train, y=y_train, epochs=40, batch_size=4)"
   ]
  },
  {
   "cell_type": "code",
   "execution_count": null,
   "metadata": {},
   "outputs": [],
   "source": [
    "#if the GPU is out of memory while testing, we may need to save the trained model, restart, then load the model. \n",
    "model_encoder.save('model_TL_encoder.h5')"
   ]
  },
  {
   "cell_type": "code",
   "execution_count": 24,
   "metadata": {},
   "outputs": [
    {
     "name": "stdout",
     "output_type": "stream",
     "text": [
      "WARNING:tensorflow:No training configuration found in the save file, so the model was *not* compiled. Compile it manually.\n"
     ]
    }
   ],
   "source": [
    "model_encoder = keras.models.load_model('model_TL_encoder.h5')"
   ]
  },
  {
   "cell_type": "code",
   "execution_count": 25,
   "metadata": {},
   "outputs": [],
   "source": [
    "#TRANSFER LEARNING\n",
    "a = []\n",
    "f = h5py.File('20210611.h5','r')   \n",
    "index = 0\n",
    "for item in f:\n",
    "    check = np.array(f[item])\n",
    "    if(check.size > 0):\n",
    "        if(float(item.split('w')[1]) < 6.1):\n",
    "            if(item.split('w')[0] != 'A634'):\n",
    "                a.append(index)\n",
    "            index+=1"
   ]
  },
  {
   "cell_type": "code",
   "execution_count": 26,
   "metadata": {},
   "outputs": [],
   "source": [
    "#TRANSFER LEARNING\n",
    "from PIL import Image\n",
    "import numpy as np\n",
    "X_train = []\n",
    "X_test = []\n",
    "for i in range(60): \n",
    "    if(i in a):\n",
    "        title = 'test_new/'+ str(i) + '.jpeg'\n",
    "        image = Image.open(title).convert('L')\n",
    "        X_train.append(np.array(image))\n",
    "    else:\n",
    "        title = 'test_new/'+ str(i) + '.jpeg'\n",
    "        image = Image.open(title).convert('L')\n",
    "        X_test.append(np.array(image))\n",
    "y_train = []\n",
    "y_test = []\n",
    "f = h5py.File('20210611.h5','r')   \n",
    "index = 0\n",
    "for item in f:\n",
    "    check = np.array(f[item])\n",
    "    if(check.size > 0):\n",
    "        if(float(item.split('w')[1]) < 6.1):\n",
    "            if(index in a):\n",
    "                y_train.append(float(item.split('w')[1]))\n",
    "            else:\n",
    "                y_test.append(float(item.split('w')[1]))\n",
    "            index += 1\n",
    "y_train = np.array(y_train)\n",
    "y_test = np.array(y_test)\n",
    "X_train = np.array(X_train)\n",
    "X_test = np.array(X_test)"
   ]
  },
  {
   "cell_type": "code",
   "execution_count": 27,
   "metadata": {},
   "outputs": [],
   "source": [
    "X_train = X_train.reshape(X_train.shape[0], 256, 256, 1)\n",
    "X_test = X_test.reshape(X_test.shape[0], 256, 256, 1)"
   ]
  },
  {
   "cell_type": "code",
   "execution_count": 28,
   "metadata": {},
   "outputs": [],
   "source": [
    "model_decoder2 = Sequential()\n",
    "model_decoder2.add(Dense(1024, activation='relu'))\n",
    "model_decoder2.add(Dense(512, activation='relu'))\n",
    "model_decoder2.add(Dense(128, activation='relu'))\n",
    "model_decoder2.add(Dense(1, activation='relu'))"
   ]
  },
  {
   "cell_type": "code",
   "execution_count": 29,
   "metadata": {},
   "outputs": [],
   "source": [
    "model_encoder.trainable = True\n",
    "model_2 = Sequential()\n",
    "model_2.add(model_encoder)\n",
    "model_2.add(model_decoder2)\n",
    "optimizer = keras.optimizers.Adam(learning_rate=0.000003)\n",
    "model_2.compile(loss='mse', optimizer=optimizer, metrics=['mae'])"
   ]
  },
  {
   "cell_type": "code",
   "execution_count": 35,
   "metadata": {},
   "outputs": [
    {
     "name": "stdout",
     "output_type": "stream",
     "text": [
      "12/12 [==============================] - 0s 40ms/step - loss: 0.2227 - mae: 0.3488 - val_loss: 0.1379 - val_mae: 0.2118\n"
     ]
    }
   ],
   "source": [
    "history = model_2.fit(x=X_train, y=y_train, validation_data=(X_test, y_test), epochs=100, batch_size=4)"
   ]
  },
  {
   "cell_type": "code",
   "execution_count": 40,
   "metadata": {},
   "outputs": [],
   "source": [
    "answer_2 = model_2.predict(X_test)"
   ]
  },
  {
   "cell_type": "markdown",
   "metadata": {},
   "source": [
    "# Train the model on Richar's data"
   ]
  },
  {
   "cell_type": "code",
   "execution_count": 41,
   "metadata": {},
   "outputs": [],
   "source": [
    "f = h5py.File('GWdatabase.h5','r')  \n",
    "#get the label of w.\n",
    "labels = []\n",
    "index = 0\n",
    "for item in f['waveforms']:\n",
    "    if(item not in fail_list):\n",
    "        labels.append(float(item.split('_')[0].split('w')[1]))\n",
    "    index += 1\n",
    "#read image data.\n",
    "from PIL import Image\n",
    "import numpy as np\n",
    "data = []\n",
    "index = 0\n",
    "for item in f['waveforms']:\n",
    "    if(item not in fail_list):\n",
    "        title = 'Final_tbounce/'+ str(index) + '.jpeg'\n",
    "        image = Image.open(title).convert('L')\n",
    "        data.append(np.array(image))\n",
    "    index += 1"
   ]
  },
  {
   "cell_type": "code",
   "execution_count": 42,
   "metadata": {},
   "outputs": [],
   "source": [
    "#transform the data type to numpy array\n",
    "data = np.array(data)\n",
    "X_train = data\n",
    "y_train = labels\n",
    "y_train = np.array(y_train)\n",
    "#transfer the data shape for model training\n",
    "X_train = X_train.reshape(X_train.shape[0], 256, 256, 1)"
   ]
  },
  {
   "cell_type": "code",
   "execution_count": 43,
   "metadata": {},
   "outputs": [],
   "source": [
    "#our model\n",
    "model = Sequential()\n",
    "model.add(Conv2D(64, (5, 5), input_shape=(256, 256, 1), padding=\"same\", activation='relu'))\n",
    "model.add(MaxPooling2D(pool_size=(2, 2)))\n",
    "model.add(Conv2D(128, (5, 5), padding=\"same\", activation='relu'))\n",
    "model.add(MaxPooling2D(pool_size=(2, 2)))\n",
    "model.add(Conv2D(256, (5, 5), padding=\"same\", activation='relu'))\n",
    "model.add(MaxPooling2D(pool_size=(2, 2)))\n",
    "model.add(Conv2D(256, (3, 3), padding=\"same\", activation='relu'))\n",
    "model.add(MaxPooling2D(pool_size=(2, 2)))\n",
    "model.add(Conv2D(256, (3, 3), padding=\"same\", activation='relu'))\n",
    "model.add(MaxPooling2D(pool_size=(2, 2)))\n",
    "model.add(Dropout(0.5))\n",
    "model.add(Flatten())\n",
    "model.add(Dense(1024, activation='relu'))\n",
    "model.add(Dense(512, activation='relu'))\n",
    "model.add(Dense(128, activation='relu'))\n",
    "model.add(Dense(1, activation='relu'))\n",
    "optimizer = keras.optimizers.Adam(learning_rate=0.000003)\n",
    "model.compile(loss='mean_squared_error', optimizer=optimizer, metrics=['mae'])"
   ]
  },
  {
   "cell_type": "code",
   "execution_count": 75,
   "metadata": {},
   "outputs": [
    {
     "name": "stdout",
     "output_type": "stream",
     "text": [
      "Epoch 1/100\n",
      "111/111 [==============================] - 8s 54ms/step - loss: 34.0673 - mae: 4.6114\n",
      "Epoch 2/100\n",
      "111/111 [==============================] - 6s 55ms/step - loss: 20.9456 - mae: 3.6823\n",
      "Epoch 3/100\n",
      "111/111 [==============================] - 6s 55ms/step - loss: 18.4016 - mae: 3.4382\n",
      "Epoch 4/100\n",
      "111/111 [==============================] - 6s 55ms/step - loss: 14.9659 - mae: 3.1015\n",
      "Epoch 5/100\n",
      "111/111 [==============================] - 6s 55ms/step - loss: 13.1375 - mae: 2.9350\n",
      "Epoch 6/100\n",
      "111/111 [==============================] - 6s 55ms/step - loss: 11.9523 - mae: 2.7886\n",
      "Epoch 7/100\n",
      "111/111 [==============================] - 6s 55ms/step - loss: 10.1003 - mae: 2.5248\n",
      "Epoch 8/100\n",
      "111/111 [==============================] - 6s 55ms/step - loss: 7.1320 - mae: 2.0578\n",
      "Epoch 9/100\n",
      "111/111 [==============================] - 6s 55ms/step - loss: 5.4531 - mae: 1.7894\n",
      "Epoch 10/100\n",
      "111/111 [==============================] - 6s 55ms/step - loss: 4.3124 - mae: 1.5801\n",
      "Epoch 11/100\n",
      "111/111 [==============================] - 6s 56ms/step - loss: 3.6123 - mae: 1.4827\n",
      "Epoch 12/100\n",
      "111/111 [==============================] - 6s 56ms/step - loss: 3.3627 - mae: 1.4117\n",
      "Epoch 13/100\n",
      "111/111 [==============================] - 6s 56ms/step - loss: 2.7380 - mae: 1.2893\n",
      "Epoch 14/100\n",
      "111/111 [==============================] - 6s 56ms/step - loss: 2.6372 - mae: 1.2505\n",
      "Epoch 15/100\n",
      "111/111 [==============================] - 6s 56ms/step - loss: 2.3533 - mae: 1.2047\n",
      "Epoch 16/100\n",
      "111/111 [==============================] - 6s 56ms/step - loss: 2.0615 - mae: 1.1251\n",
      "Epoch 17/100\n",
      "111/111 [==============================] - 6s 56ms/step - loss: 1.9210 - mae: 1.0854\n",
      "Epoch 18/100\n",
      "111/111 [==============================] - 6s 56ms/step - loss: 1.8973 - mae: 1.0993\n",
      "Epoch 19/100\n",
      "111/111 [==============================] - 6s 56ms/step - loss: 1.6912 - mae: 1.0279\n",
      "Epoch 20/100\n",
      "111/111 [==============================] - 6s 56ms/step - loss: 1.5522 - mae: 0.9696\n",
      "Epoch 21/100\n",
      "111/111 [==============================] - 6s 56ms/step - loss: 1.4100 - mae: 0.9274\n",
      "Epoch 22/100\n",
      "111/111 [==============================] - 6s 56ms/step - loss: 1.2998 - mae: 0.8939\n",
      "Epoch 23/100\n",
      "111/111 [==============================] - 6s 56ms/step - loss: 1.3887 - mae: 0.9225\n",
      "Epoch 24/100\n",
      "111/111 [==============================] - 6s 55ms/step - loss: 1.2644 - mae: 0.8704\n",
      "Epoch 25/100\n",
      "111/111 [==============================] - 6s 55ms/step - loss: 1.0898 - mae: 0.8212\n",
      "Epoch 26/100\n",
      "111/111 [==============================] - 6s 56ms/step - loss: 1.1161 - mae: 0.8160\n",
      "Epoch 27/100\n",
      "111/111 [==============================] - 6s 55ms/step - loss: 1.0290 - mae: 0.8031\n",
      "Epoch 28/100\n",
      "111/111 [==============================] - 6s 55ms/step - loss: 1.0593 - mae: 0.8210\n",
      "Epoch 29/100\n",
      "111/111 [==============================] - 6s 55ms/step - loss: 0.9195 - mae: 0.7585\n",
      "Epoch 30/100\n",
      "111/111 [==============================] - 6s 55ms/step - loss: 1.0105 - mae: 0.7973\n",
      "Epoch 31/100\n",
      "111/111 [==============================] - 6s 55ms/step - loss: 0.8969 - mae: 0.7601\n",
      "Epoch 32/100\n",
      "111/111 [==============================] - 6s 56ms/step - loss: 0.9319 - mae: 0.7625\n",
      "Epoch 33/100\n",
      "111/111 [==============================] - 6s 56ms/step - loss: 0.8384 - mae: 0.7241\n",
      "Epoch 34/100\n",
      "111/111 [==============================] - 6s 56ms/step - loss: 0.8165 - mae: 0.7116\n",
      "Epoch 35/100\n",
      "111/111 [==============================] - 6s 56ms/step - loss: 0.8176 - mae: 0.7162\n",
      "Epoch 36/100\n",
      "111/111 [==============================] - 6s 56ms/step - loss: 0.8070 - mae: 0.6988\n",
      "Epoch 37/100\n",
      "111/111 [==============================] - 6s 56ms/step - loss: 0.7411 - mae: 0.6897\n",
      "Epoch 38/100\n",
      "111/111 [==============================] - 6s 56ms/step - loss: 0.7103 - mae: 0.6663\n",
      "Epoch 39/100\n",
      "111/111 [==============================] - 6s 56ms/step - loss: 0.6908 - mae: 0.6414\n",
      "Epoch 40/100\n",
      "111/111 [==============================] - 6s 56ms/step - loss: 0.5981 - mae: 0.6128\n",
      "Epoch 41/100\n",
      "111/111 [==============================] - 6s 56ms/step - loss: 0.6725 - mae: 0.6462\n",
      "Epoch 42/100\n",
      "111/111 [==============================] - 6s 56ms/step - loss: 0.6217 - mae: 0.6071\n",
      "Epoch 43/100\n",
      "111/111 [==============================] - 6s 56ms/step - loss: 0.6774 - mae: 0.6581\n",
      "Epoch 44/100\n",
      "111/111 [==============================] - 6s 56ms/step - loss: 0.6387 - mae: 0.6170\n",
      "Epoch 45/100\n",
      "111/111 [==============================] - 6s 56ms/step - loss: 0.5716 - mae: 0.5904\n",
      "Epoch 46/100\n",
      "111/111 [==============================] - 6s 56ms/step - loss: 0.6058 - mae: 0.6040\n",
      "Epoch 47/100\n",
      "111/111 [==============================] - 6s 56ms/step - loss: 0.5757 - mae: 0.5903\n",
      "Epoch 48/100\n",
      "111/111 [==============================] - 6s 56ms/step - loss: 0.5248 - mae: 0.5703\n",
      "Epoch 49/100\n",
      "111/111 [==============================] - 6s 56ms/step - loss: 0.4899 - mae: 0.5473\n",
      "Epoch 50/100\n",
      "111/111 [==============================] - 6s 56ms/step - loss: 0.5065 - mae: 0.5650\n",
      "Epoch 51/100\n",
      "111/111 [==============================] - 6s 56ms/step - loss: 0.5031 - mae: 0.5587\n",
      "Epoch 52/100\n",
      "111/111 [==============================] - 6s 56ms/step - loss: 0.4728 - mae: 0.5471\n",
      "Epoch 53/100\n",
      "111/111 [==============================] - 6s 55ms/step - loss: 0.4780 - mae: 0.5415\n",
      "Epoch 54/100\n",
      "111/111 [==============================] - 6s 55ms/step - loss: 0.4471 - mae: 0.5251\n",
      "Epoch 55/100\n",
      "111/111 [==============================] - 6s 55ms/step - loss: 0.4533 - mae: 0.5395\n",
      "Epoch 56/100\n",
      "111/111 [==============================] - 6s 55ms/step - loss: 0.4493 - mae: 0.5268\n",
      "Epoch 57/100\n",
      "111/111 [==============================] - 6s 55ms/step - loss: 0.4291 - mae: 0.5101\n",
      "Epoch 58/100\n",
      "111/111 [==============================] - 6s 55ms/step - loss: 0.4283 - mae: 0.5078\n",
      "Epoch 59/100\n",
      "111/111 [==============================] - 6s 55ms/step - loss: 0.4423 - mae: 0.5150\n",
      "Epoch 60/100\n",
      "111/111 [==============================] - 6s 55ms/step - loss: 0.4286 - mae: 0.5084\n",
      "Epoch 61/100\n",
      "111/111 [==============================] - 6s 55ms/step - loss: 0.4098 - mae: 0.4967\n",
      "Epoch 62/100\n",
      "111/111 [==============================] - 6s 55ms/step - loss: 0.3796 - mae: 0.4744\n",
      "Epoch 63/100\n",
      "111/111 [==============================] - 6s 55ms/step - loss: 0.3616 - mae: 0.4740\n",
      "Epoch 64/100\n",
      "111/111 [==============================] - 6s 55ms/step - loss: 0.3476 - mae: 0.4652\n",
      "Epoch 65/100\n",
      "111/111 [==============================] - 6s 55ms/step - loss: 0.3740 - mae: 0.4820\n",
      "Epoch 66/100\n",
      "111/111 [==============================] - 6s 55ms/step - loss: 0.3364 - mae: 0.4578\n",
      "Epoch 67/100\n",
      "111/111 [==============================] - 6s 55ms/step - loss: 0.3492 - mae: 0.4679\n",
      "Epoch 68/100\n",
      "111/111 [==============================] - 6s 55ms/step - loss: 0.3420 - mae: 0.4541\n",
      "Epoch 69/100\n",
      "111/111 [==============================] - 6s 55ms/step - loss: 0.3699 - mae: 0.4794\n",
      "Epoch 70/100\n",
      "111/111 [==============================] - 6s 55ms/step - loss: 0.3183 - mae: 0.4390\n",
      "Epoch 71/100\n",
      "111/111 [==============================] - 6s 55ms/step - loss: 0.3380 - mae: 0.4376\n",
      "Epoch 72/100\n",
      "111/111 [==============================] - 6s 55ms/step - loss: 0.2915 - mae: 0.4311\n",
      "Epoch 73/100\n",
      "111/111 [==============================] - 6s 55ms/step - loss: 0.2914 - mae: 0.4242\n",
      "Epoch 74/100\n",
      "111/111 [==============================] - 6s 55ms/step - loss: 0.2914 - mae: 0.4274\n",
      "Epoch 75/100\n",
      "111/111 [==============================] - 6s 55ms/step - loss: 0.3122 - mae: 0.4335\n",
      "Epoch 76/100\n",
      "111/111 [==============================] - 6s 55ms/step - loss: 0.2992 - mae: 0.4308\n",
      "Epoch 77/100\n",
      "111/111 [==============================] - 6s 55ms/step - loss: 0.2768 - mae: 0.4109\n",
      "Epoch 78/100\n",
      "111/111 [==============================] - 6s 55ms/step - loss: 0.2710 - mae: 0.4005\n",
      "Epoch 79/100\n",
      "111/111 [==============================] - 6s 55ms/step - loss: 0.2655 - mae: 0.3968\n",
      "Epoch 80/100\n",
      "111/111 [==============================] - 6s 55ms/step - loss: 0.2922 - mae: 0.4157\n",
      "Epoch 81/100\n",
      "111/111 [==============================] - 6s 55ms/step - loss: 0.2413 - mae: 0.3856\n",
      "Epoch 82/100\n",
      "111/111 [==============================] - 6s 55ms/step - loss: 0.2534 - mae: 0.3930\n",
      "Epoch 83/100\n",
      "111/111 [==============================] - 6s 55ms/step - loss: 0.2600 - mae: 0.3917\n",
      "Epoch 84/100\n"
     ]
    },
    {
     "name": "stdout",
     "output_type": "stream",
     "text": [
      "111/111 [==============================] - 6s 55ms/step - loss: 0.2439 - mae: 0.3858\n",
      "Epoch 85/100\n",
      "111/111 [==============================] - 6s 55ms/step - loss: 0.2401 - mae: 0.3859\n",
      "Epoch 86/100\n",
      "111/111 [==============================] - 6s 55ms/step - loss: 0.2250 - mae: 0.3727\n",
      "Epoch 87/100\n",
      "111/111 [==============================] - 6s 55ms/step - loss: 0.2389 - mae: 0.3764\n",
      "Epoch 88/100\n",
      "111/111 [==============================] - 6s 55ms/step - loss: 0.2441 - mae: 0.3884\n",
      "Epoch 89/100\n",
      "111/111 [==============================] - 6s 55ms/step - loss: 0.2425 - mae: 0.3899\n",
      "Epoch 90/100\n",
      "111/111 [==============================] - 6s 55ms/step - loss: 0.2208 - mae: 0.3715\n",
      "Epoch 91/100\n",
      "111/111 [==============================] - 6s 55ms/step - loss: 0.2259 - mae: 0.3688\n",
      "Epoch 92/100\n",
      "111/111 [==============================] - 6s 55ms/step - loss: 0.2228 - mae: 0.3705\n",
      "Epoch 93/100\n",
      "111/111 [==============================] - 6s 55ms/step - loss: 0.1846 - mae: 0.3368\n",
      "Epoch 94/100\n",
      "111/111 [==============================] - 6s 55ms/step - loss: 0.1933 - mae: 0.3419\n",
      "Epoch 95/100\n",
      "111/111 [==============================] - 6s 55ms/step - loss: 0.1967 - mae: 0.3490\n",
      "Epoch 96/100\n",
      "111/111 [==============================] - 6s 55ms/step - loss: 0.2032 - mae: 0.3500\n",
      "Epoch 97/100\n",
      "111/111 [==============================] - 6s 55ms/step - loss: 0.2116 - mae: 0.3542\n",
      "Epoch 98/100\n",
      "111/111 [==============================] - 6s 55ms/step - loss: 0.2018 - mae: 0.3523\n",
      "Epoch 99/100\n",
      "111/111 [==============================] - 6s 55ms/step - loss: 0.1877 - mae: 0.3393\n",
      "Epoch 100/100\n",
      "111/111 [==============================] - 6s 55ms/step - loss: 0.1866 - mae: 0.3383\n"
     ]
    }
   ],
   "source": [
    "history = model.fit(x=X_train, y=y_train, epochs=100, batch_size=16)"
   ]
  },
  {
   "cell_type": "code",
   "execution_count": 45,
   "metadata": {},
   "outputs": [],
   "source": [
    "answer = model.predict(X_test)"
   ]
  },
  {
   "cell_type": "code",
   "execution_count": 46,
   "metadata": {},
   "outputs": [],
   "source": [
    "true = []\n",
    "for i in range(14):\n",
    "    true.append(i*0.5)"
   ]
  },
  {
   "cell_type": "code",
   "execution_count": 58,
   "metadata": {},
   "outputs": [
    {
     "name": "stdout",
     "output_type": "stream",
     "text": [
      "[0.50208515] 0.5\n",
      "[0.9712072] 1.0\n",
      "[1.6022184] 1.5\n",
      "[2.0196908] 2.0\n",
      "[2.5250034] 2.5\n",
      "[3.0473042] 3.0\n",
      "[3.4569535] 3.5\n",
      "[4.150567] 4.0\n",
      "[4.4099627] 4.5\n",
      "[5.3311033] 5.0\n",
      "[4.8106184] 5.5\n",
      "[4.9897227] 6.0\n",
      "mae 0.21162564555803934\n"
     ]
    }
   ],
   "source": [
    "index = 0\n",
    "mae = 0\n",
    "for item in answer_2:\n",
    "    print(item,y_test[index])\n",
    "    mae += abs(item[0]-y_test[index])\n",
    "    index+=1\n",
    "print(\"mae\",mae/12)"
   ]
  },
  {
   "cell_type": "code",
   "execution_count": 59,
   "metadata": {},
   "outputs": [
    {
     "name": "stdout",
     "output_type": "stream",
     "text": [
      "[1.1265852] 0.5\n",
      "[1.4937192] 1.0\n",
      "[1.9012432] 1.5\n",
      "[2.0438838] 2.0\n",
      "[2.1394658] 2.5\n",
      "[2.7669752] 3.0\n",
      "[2.9989803] 3.5\n",
      "[3.1679642] 4.0\n",
      "[2.9684603] 4.5\n",
      "[4.2142797] 5.0\n",
      "[4.619818] 5.5\n",
      "[4.844134] 6.0\n",
      "mae 0.6537794967492422\n"
     ]
    }
   ],
   "source": [
    "index = 0\n",
    "mae = 0\n",
    "for item in answer:\n",
    "    print(item,y_test[index])\n",
    "    mae += abs(item[0]-y_test[index])\n",
    "    index+=1\n",
    "print(\"mae\",mae/12)"
   ]
  },
  {
   "cell_type": "code",
   "execution_count": 49,
   "metadata": {},
   "outputs": [
    {
     "data": {
      "image/png": "[encoded data removed]",
      "text/plain": [
       "<Figure size 432x288 with 1 Axes>"
      ]
     },
     "metadata": {
      "needs_background": "light"
     },
     "output_type": "display_data"
    }
   ],
   "source": [
    "plt.plot(true,true,c='red')\n",
    "plt.scatter(answer,y_test,c='green')\n",
    "plt.scatter(answer_2,y_test,c='blue')\n",
    "plt.ylabel(\"True value\") \n",
    "plt.xlabel('Predicted value') \n",
    "plt.savefig('TL.jpg')"
   ]
  },
  {
   "cell_type": "code",
   "execution_count": null,
   "metadata": {},
   "outputs": [],
   "source": []
  }
 ],
 "metadata": {
  "kernelspec": {
   "display_name": "Python 3",
   "language": "python",
   "name": "python3"
  },
  "language_info": {
   "codemirror_mode": {
    "name": "ipython",
    "version": 3
   },
   "file_extension": ".py",
   "mimetype": "text/x-python",
   "name": "python",
   "nbconvert_exporter": "python",
   "pygments_lexer": "ipython3",
   "version": "3.8.5"
  }
 },
 "nbformat": 4,
 "nbformat_minor": 2
}

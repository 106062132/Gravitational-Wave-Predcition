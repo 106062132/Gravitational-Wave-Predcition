{
 "cells": [
  {
   "cell_type": "code",
   "execution_count": 1,
   "metadata": {},
   "outputs": [],
   "source": [
    "import h5py  \n",
    "import numpy as np\n",
    "import pandas as pd\n",
    "import matplotlib.pyplot as plt\n",
    "import tensorflow as tf\n",
    "import keras"
   ]
  },
  {
   "cell_type": "markdown",
   "metadata": {},
   "source": [
    "# Preprocessing"
   ]
  },
  {
   "cell_type": "code",
   "execution_count": 2,
   "metadata": {},
   "outputs": [],
   "source": [
    "#If using GPU.\n",
    "physical_devices = tf.config.experimental.list_physical_devices('GPU')\n",
    "assert len(physical_devices) > 0, \"Not enough GPU hardware devices available\"\n",
    "tf.config.experimental.set_memory_growth(physical_devices[0], True)"
   ]
  },
  {
   "cell_type": "code",
   "execution_count": 3,
   "metadata": {},
   "outputs": [
    {
     "data": {
      "text/plain": [
       "<KeysViewHDF5 ['reduced_data', 'waveforms', 'yeofrho']>"
      ]
     },
     "execution_count": 3,
     "metadata": {},
     "output_type": "execute_result"
    }
   ],
   "source": [
    "#read database.\n",
    "f = h5py.File('GWdatabase.h5','r')   \n",
    "f.keys()   "
   ]
  },
  {
   "cell_type": "code",
   "execution_count": 4,
   "metadata": {},
   "outputs": [],
   "source": [
    "#create a list that contains all the failure cases.\n",
    "fail_num = []\n",
    "index = 0\n",
    "for item in f['reduced_data']['tbounce(s)']:\n",
    "    if(item == -1):\n",
    "        fail_num.append(index)\n",
    "    index += 1\n",
    "fail_case = []\n",
    "for index in fail_num:\n",
    "    fail_case.append([f['reduced_data']['A(km)'][index],f['reduced_data']['omega_0(rad|s)'][index],f['reduced_data']['EOS'][index]])\n",
    "fail_list= []\n",
    "for item in fail_case:\n",
    "    tmp = str(item[2]).split(\"b'\")[1].split(\"'\")[0]\n",
    "    tmp = \"A\" + str(int(item[0])) + \"w\" + str(item[1]) + \"0_\" + tmp\n",
    "    fail_list.append(tmp)    "
   ]
  },
  {
   "cell_type": "code",
   "execution_count": 5,
   "metadata": {},
   "outputs": [
    {
     "data": {
      "text/plain": [
       "1667"
      ]
     },
     "execution_count": 5,
     "metadata": {},
     "output_type": "execute_result"
    }
   ],
   "source": [
    "#A_num is the list of all the cases that have the particular A value\n",
    "A_num = []\n",
    "index = 0\n",
    "for item in f['waveforms']:\n",
    "    if(item not in fail_list):\n",
    "        #if(float(item.split('_')[0].split('w')[0].split('A')[1]) == 467):\n",
    "         if(str(item.split('_')[1]) != 'BHBL'):\n",
    "            A_num.append(index)\n",
    "    index+=1\n",
    "len(A_num)"
   ]
  },
  {
   "cell_type": "markdown",
   "metadata": {},
   "source": [
    "# Choose which label we want to predict "
   ]
  },
  {
   "cell_type": "code",
   "execution_count": 6,
   "metadata": {},
   "outputs": [],
   "source": [
    "#get the label of EOS.\n",
    "y_train = []\n",
    "y_test = []\n",
    "index = 0\n",
    "for item in f['waveforms']:\n",
    "    if(item not in fail_list):\n",
    "        if(index in A_num):\n",
    "            y_train.append(str(item.split('_')[1]))\n",
    "        else:\n",
    "            y_test.append(str(item.split('_')[1]))\n",
    "    index += 1"
   ]
  },
  {
   "cell_type": "code",
   "execution_count": 7,
   "metadata": {},
   "outputs": [],
   "source": [
    "y_test = np.where(y_test == \"BHBL\", \"B\", y_test)\n",
    "y_train = np.where(y_train == \"BHBLP\", \"B\", y_train)\n",
    "y_train = np.where(y_train == \"GShenFSU1.7\", \"G\", y_train)\n",
    "y_train = np.where(y_train == \"GShenFSU2.1\", \"G\", y_train)\n",
    "y_train = np.where(y_train == \"GShenNL3\", \"G\", y_train)\n",
    "y_train = np.where(y_train == \"HSDD2\", \"B\", y_train)\n",
    "y_train = np.where(y_train == \"HSFSG\", \"B\", y_train)\n",
    "y_train = np.where(y_train == \"HSIUF\", \"B\", y_train)\n",
    "y_train = np.where(y_train == \"HSNL3\", \"B\", y_train)\n",
    "y_train = np.where(y_train == \"HSTM1\", \"B\", y_train)\n",
    "y_train = np.where(y_train == \"HSTMA\", \"B\", y_train)\n",
    "y_train = np.where(y_train == \"HShen\", \"H\", y_train)\n",
    "y_train = np.where(y_train == \"HShenH\", \"H\", y_train)\n",
    "y_train = np.where(y_train == \"LS180\", \"L\", y_train)\n",
    "y_train = np.where(y_train == \"LS220\", \"L\", y_train)\n",
    "y_train = np.where(y_train == \"LS375\", \"L\", y_train)\n",
    "y_train = np.where(y_train == \"SFHo\", \"B\", y_train)\n",
    "y_train = np.where(y_train == \"SFHx\", \"B\", y_train)"
   ]
  },
  {
   "cell_type": "code",
   "execution_count": 8,
   "metadata": {},
   "outputs": [],
   "source": [
    "y_test = np.where(y_test == \"BHBL\", \"B\", y_test)\n",
    "y_train = np.where(y_train == \"BHBLP\", \"B\", y_train)\n",
    "y_train = np.where(y_train == \"GShenFSU1.7\", \"G\", y_train)\n",
    "y_train = np.where(y_train == \"GShenFSU2.1\", \"G\", y_train)\n",
    "y_train = np.where(y_train == \"GShenNL3\", \"G\", y_train)\n",
    "y_train = np.where(y_train == \"HSDD2\", \"B\", y_train)\n",
    "y_train = np.where(y_train == \"HSFSG\", \"B\", y_train)\n",
    "y_train = np.where(y_train == \"HSIUF\", \"B\", y_train)\n",
    "y_train = np.where(y_train == \"HSNL3\", \"B\", y_train)\n",
    "y_train = np.where(y_train == \"HSTM1\", \"B\", y_train)\n",
    "y_train = np.where(y_train == \"HSTMA\", \"B\", y_train)\n",
    "y_train = np.where(y_train == \"HShen\", \"H\", y_train)\n",
    "y_train = np.where(y_train == \"HShenH\", \"H\", y_train)\n",
    "y_train = np.where(y_train == \"LS180\", \"L\", y_train)\n",
    "y_train = np.where(y_train == \"LS220\", \"L\", y_train)\n",
    "y_train = np.where(y_train == \"LS375\", \"L\", y_train)\n",
    "y_train = np.where(y_train == \"SFHo\", \"B\", y_train)\n",
    "y_train = np.where(y_train == \"SFHx\", \"B\", y_train)"
   ]
  },
  {
   "cell_type": "markdown",
   "metadata": {},
   "source": [
    "# Get data "
   ]
  },
  {
   "cell_type": "code",
   "execution_count": 9,
   "metadata": {},
   "outputs": [],
   "source": [
    "#read image data.\n",
    "from PIL import Image\n",
    "import numpy as np\n",
    "X_train = []\n",
    "X_test = []\n",
    "index = 0\n",
    "for item in f['waveforms']:\n",
    "    if(item not in fail_list):\n",
    "        if(index in A_num):\n",
    "            title = 'Final_EOS/'+ str(index) + '.jpeg'\n",
    "            image = Image.open(title).convert('L')\n",
    "            X_train.append(np.array(image))\n",
    "        else:\n",
    "            title = 'Final_EOS/'+ str(index) + '.jpeg'\n",
    "            image = Image.open(title).convert('L')\n",
    "            X_test.append(np.array(image))\n",
    "    index += 1"
   ]
  },
  {
   "cell_type": "code",
   "execution_count": 10,
   "metadata": {},
   "outputs": [],
   "source": [
    "#transform the data type to numpy array\n",
    "X_train = np.array(X_train)\n",
    "X_test = np.array(X_test)"
   ]
  },
  {
   "cell_type": "markdown",
   "metadata": {},
   "source": [
    "# Model"
   ]
  },
  {
   "cell_type": "code",
   "execution_count": 11,
   "metadata": {},
   "outputs": [],
   "source": [
    "from sklearn.metrics import accuracy_score, confusion_matrix, roc_curve, roc_auc_score\n",
    "from sklearn.model_selection import train_test_split, GridSearchCV\n",
    "import keras\n",
    "from keras.models import Sequential\n",
    "from keras.layers import Dense, Dropout, Flatten\n",
    "from keras.layers.convolutional import Conv2D, MaxPooling2D\n",
    "from keras import backend as K\n",
    "import os\n",
    "import gc"
   ]
  },
  {
   "cell_type": "code",
   "execution_count": 12,
   "metadata": {},
   "outputs": [
    {
     "data": {
      "text/plain": [
       "(1667, 256, 256)"
      ]
     },
     "execution_count": 12,
     "metadata": {},
     "output_type": "execute_result"
    }
   ],
   "source": [
    "X_train.shape"
   ]
  },
  {
   "cell_type": "code",
   "execution_count": 13,
   "metadata": {},
   "outputs": [],
   "source": [
    "#transfer the data shape for model training\n",
    "X_train = X_train.reshape(X_train.shape[0], 256, 256, 1)\n",
    "X_test = X_test.reshape(X_test.shape[0], 256, 256, 1)"
   ]
  },
  {
   "cell_type": "code",
   "execution_count": 14,
   "metadata": {},
   "outputs": [],
   "source": [
    "#using one hot to encode the label.\n",
    "from sklearn.preprocessing import LabelEncoder\n",
    "\n",
    "label_encoder = LabelEncoder()\n",
    "label_encoder.fit(y_train)\n",
    "\n",
    "def label_encode(le, labels):\n",
    "    enc = le.transform(labels)\n",
    "    return keras.utils.to_categorical(enc)\n",
    "\n",
    "def label_decode(le, one_hot_label):\n",
    "    dec = np.argmax(one_hot_label, axis=1)\n",
    "    return le.inverse_transform(dec)\n",
    "\n",
    "y_train = label_encode(label_encoder, y_train)"
   ]
  },
  {
   "cell_type": "code",
   "execution_count": 15,
   "metadata": {},
   "outputs": [],
   "source": [
    "from tensorflow.keras.layers import Dense, Input, Dropout,Flatten, Conv2D\n",
    "from tensorflow.keras.layers import BatchNormalization, Activation, MaxPooling2D\n",
    "from tensorflow.keras.models import Model, Sequential\n",
    "from tensorflow.keras.optimizers import Adam, SGD\n",
    "from tensorflow.keras.callbacks import ModelCheckpoint, ReduceLROnPlateau\n",
    "from tensorflow.keras.utils import plot_model\n",
    "from keras.layers import Concatenate\n",
    "from keras.models import Model"
   ]
  },
  {
   "cell_type": "code",
   "execution_count": 16,
   "metadata": {},
   "outputs": [],
   "source": [
    "#our model\n",
    "model = Sequential()\n",
    "model.add(Conv2D(64, (5, 5), input_shape=(256, 256, 1), padding=\"same\", activation='relu'))\n",
    "model.add(MaxPooling2D(pool_size=(2, 2)))\n",
    "model.add(Conv2D(128, (5, 5), padding=\"same\", activation='relu'))\n",
    "model.add(MaxPooling2D(pool_size=(2, 2)))\n",
    "model.add(Conv2D(256, (5, 5), padding=\"same\", activation='relu'))\n",
    "model.add(MaxPooling2D(pool_size=(2, 2)))\n",
    "model.add(Conv2D(256, (3, 3), padding=\"same\", activation='relu'))\n",
    "model.add(MaxPooling2D(pool_size=(2, 2)))\n",
    "model.add(Conv2D(256, (3, 3), padding=\"same\", activation='relu'))\n",
    "model.add(MaxPooling2D(pool_size=(2, 2)))\n",
    "model.add(Dropout(0.5))\n",
    "model.add(Flatten())\n",
    "model.add(Dense(1024, activation='relu'))\n",
    "model.add(Dense(512, activation='relu'))\n",
    "model.add(Dense(128, activation='relu'))\n",
    "model.add(Dense(4, activation='softmax'))\n",
    "optimizer = keras.optimizers.Adam(learning_rate=0.00001)\n",
    "model.compile(loss='categorical_crossentropy', optimizer=optimizer, metrics=['acc'])"
   ]
  },
  {
   "cell_type": "code",
   "execution_count": 17,
   "metadata": {},
   "outputs": [
    {
     "name": "stdout",
     "output_type": "stream",
     "text": [
      "Epoch 1/100\n",
      "105/105 [==============================] - 9s 60ms/step - loss: 2.8292 - acc: 0.3942\n",
      "Epoch 2/100\n",
      "105/105 [==============================] - 6s 54ms/step - loss: 1.2919 - acc: 0.4957\n",
      "Epoch 3/100\n",
      "105/105 [==============================] - 6s 54ms/step - loss: 1.2081 - acc: 0.5605\n",
      "Epoch 4/100\n",
      "105/105 [==============================] - 6s 55ms/step - loss: 1.2137 - acc: 0.5430\n",
      "Epoch 5/100\n",
      "105/105 [==============================] - 6s 54ms/step - loss: 1.1881 - acc: 0.5515\n",
      "Epoch 6/100\n",
      "105/105 [==============================] - 6s 54ms/step - loss: 1.2090 - acc: 0.5365\n",
      "Epoch 7/100\n",
      "105/105 [==============================] - 6s 54ms/step - loss: 1.1786 - acc: 0.5615\n",
      "Epoch 8/100\n",
      "105/105 [==============================] - 6s 54ms/step - loss: 1.1572 - acc: 0.5716\n",
      "Epoch 9/100\n",
      "105/105 [==============================] - 6s 52ms/step - loss: 1.1859 - acc: 0.5547\n",
      "Epoch 10/100\n",
      "105/105 [==============================] - 6s 52ms/step - loss: 1.1586 - acc: 0.5627\n",
      "Epoch 11/100\n",
      "105/105 [==============================] - 6s 54ms/step - loss: 1.1588 - acc: 0.5633\n",
      "Epoch 12/100\n",
      "105/105 [==============================] - 6s 56ms/step - loss: 1.1485 - acc: 0.5703\n",
      "Epoch 13/100\n",
      "105/105 [==============================] - 6s 55ms/step - loss: 1.1505 - acc: 0.5614\n",
      "Epoch 14/100\n",
      "105/105 [==============================] - 6s 55ms/step - loss: 1.1425 - acc: 0.5647\n",
      "Epoch 15/100\n",
      "105/105 [==============================] - 6s 55ms/step - loss: 1.1275 - acc: 0.5682\n",
      "Epoch 16/100\n",
      "105/105 [==============================] - 6s 55ms/step - loss: 1.1376 - acc: 0.5534\n",
      "Epoch 17/100\n",
      "105/105 [==============================] - 6s 56ms/step - loss: 1.0498 - acc: 0.5803\n",
      "Epoch 18/100\n",
      "105/105 [==============================] - 6s 56ms/step - loss: 1.0143 - acc: 0.5940\n",
      "Epoch 19/100\n",
      "105/105 [==============================] - 6s 55ms/step - loss: 0.9446 - acc: 0.6068\n",
      "Epoch 20/100\n",
      "105/105 [==============================] - 6s 56ms/step - loss: 0.8571 - acc: 0.6505\n",
      "Epoch 21/100\n",
      "105/105 [==============================] - 6s 56ms/step - loss: 0.7223 - acc: 0.7129\n",
      "Epoch 22/100\n",
      "105/105 [==============================] - 6s 56ms/step - loss: 0.6506 - acc: 0.7529\n",
      "Epoch 23/100\n",
      "105/105 [==============================] - 6s 56ms/step - loss: 0.5597 - acc: 0.7782\n",
      "Epoch 24/100\n",
      "105/105 [==============================] - 6s 56ms/step - loss: 0.5797 - acc: 0.7633\n",
      "Epoch 25/100\n",
      "105/105 [==============================] - 6s 56ms/step - loss: 0.4895 - acc: 0.7970\n",
      "Epoch 26/100\n",
      "105/105 [==============================] - 6s 56ms/step - loss: 0.4542 - acc: 0.8268\n",
      "Epoch 27/100\n",
      "105/105 [==============================] - 6s 56ms/step - loss: 0.3857 - acc: 0.8488\n",
      "Epoch 28/100\n",
      "105/105 [==============================] - 6s 56ms/step - loss: 0.3288 - acc: 0.8740\n",
      "Epoch 29/100\n",
      "105/105 [==============================] - 6s 56ms/step - loss: 0.3473 - acc: 0.8704\n",
      "Epoch 30/100\n",
      "105/105 [==============================] - 6s 56ms/step - loss: 0.2763 - acc: 0.8985\n",
      "Epoch 31/100\n",
      "105/105 [==============================] - 6s 56ms/step - loss: 0.2743 - acc: 0.9002\n",
      "Epoch 32/100\n",
      "105/105 [==============================] - 6s 56ms/step - loss: 0.2293 - acc: 0.9216\n",
      "Epoch 33/100\n",
      "105/105 [==============================] - 6s 56ms/step - loss: 0.2250 - acc: 0.9245\n",
      "Epoch 34/100\n",
      "105/105 [==============================] - 6s 56ms/step - loss: 0.2092 - acc: 0.9187\n",
      "Epoch 35/100\n",
      "105/105 [==============================] - 6s 56ms/step - loss: 0.2210 - acc: 0.9260\n",
      "Epoch 36/100\n",
      "105/105 [==============================] - 6s 56ms/step - loss: 0.1876 - acc: 0.9233\n",
      "Epoch 37/100\n",
      "105/105 [==============================] - 6s 56ms/step - loss: 0.1579 - acc: 0.9428\n",
      "Epoch 38/100\n",
      "105/105 [==============================] - 6s 56ms/step - loss: 0.1509 - acc: 0.9483\n",
      "Epoch 39/100\n",
      "105/105 [==============================] - 6s 56ms/step - loss: 0.1333 - acc: 0.9539\n",
      "Epoch 40/100\n",
      "105/105 [==============================] - 6s 56ms/step - loss: 0.1442 - acc: 0.9469\n",
      "Epoch 41/100\n",
      "105/105 [==============================] - 6s 56ms/step - loss: 0.1215 - acc: 0.9593\n",
      "Epoch 42/100\n",
      "105/105 [==============================] - 6s 56ms/step - loss: 0.1052 - acc: 0.9696\n",
      "Epoch 43/100\n",
      "105/105 [==============================] - 6s 56ms/step - loss: 0.0937 - acc: 0.9772\n",
      "Epoch 44/100\n",
      "105/105 [==============================] - 6s 56ms/step - loss: 0.0965 - acc: 0.9724\n",
      "Epoch 45/100\n",
      "105/105 [==============================] - 6s 56ms/step - loss: 0.1076 - acc: 0.9602\n",
      "Epoch 46/100\n",
      "105/105 [==============================] - 6s 56ms/step - loss: 0.0832 - acc: 0.9745\n",
      "Epoch 47/100\n",
      "105/105 [==============================] - 6s 56ms/step - loss: 0.0824 - acc: 0.9735\n",
      "Epoch 48/100\n",
      "105/105 [==============================] - 6s 56ms/step - loss: 0.0873 - acc: 0.9742\n",
      "Epoch 49/100\n",
      "105/105 [==============================] - 6s 56ms/step - loss: 0.0652 - acc: 0.9818\n",
      "Epoch 50/100\n",
      "105/105 [==============================] - 6s 56ms/step - loss: 0.0574 - acc: 0.9839\n",
      "Epoch 51/100\n",
      "105/105 [==============================] - 6s 56ms/step - loss: 0.0374 - acc: 0.9931\n",
      "Epoch 52/100\n",
      "105/105 [==============================] - 6s 56ms/step - loss: 0.0519 - acc: 0.9826\n",
      "Epoch 53/100\n",
      "105/105 [==============================] - 6s 55ms/step - loss: 0.0519 - acc: 0.9836\n",
      "Epoch 54/100\n",
      "105/105 [==============================] - 6s 55ms/step - loss: 0.0472 - acc: 0.9905\n",
      "Epoch 55/100\n",
      "105/105 [==============================] - 6s 55ms/step - loss: 0.0475 - acc: 0.9873\n",
      "Epoch 56/100\n",
      "105/105 [==============================] - 6s 55ms/step - loss: 0.0297 - acc: 0.9933\n",
      "Epoch 57/100\n",
      "105/105 [==============================] - 6s 55ms/step - loss: 0.0282 - acc: 0.9930\n",
      "Epoch 58/100\n",
      "105/105 [==============================] - 6s 55ms/step - loss: 0.0354 - acc: 0.9876\n",
      "Epoch 59/100\n",
      "105/105 [==============================] - 6s 55ms/step - loss: 0.0352 - acc: 0.9906\n",
      "Epoch 60/100\n",
      "105/105 [==============================] - 6s 55ms/step - loss: 0.0195 - acc: 0.9950\n",
      "Epoch 61/100\n",
      "105/105 [==============================] - 6s 55ms/step - loss: 0.0279 - acc: 0.9945\n",
      "Epoch 62/100\n",
      "105/105 [==============================] - 6s 55ms/step - loss: 0.0208 - acc: 0.9951\n",
      "Epoch 63/100\n",
      "105/105 [==============================] - 6s 55ms/step - loss: 0.0301 - acc: 0.9893\n",
      "Epoch 64/100\n",
      "105/105 [==============================] - 6s 55ms/step - loss: 0.0191 - acc: 0.9947\n",
      "Epoch 65/100\n",
      "105/105 [==============================] - 6s 55ms/step - loss: 0.0208 - acc: 0.9942\n",
      "Epoch 66/100\n",
      "105/105 [==============================] - 6s 55ms/step - loss: 0.0117 - acc: 0.9999\n",
      "Epoch 67/100\n",
      "105/105 [==============================] - 6s 55ms/step - loss: 0.0162 - acc: 0.9951\n",
      "Epoch 68/100\n",
      "105/105 [==============================] - 6s 55ms/step - loss: 0.0366 - acc: 0.9873\n",
      "Epoch 69/100\n",
      "105/105 [==============================] - 6s 55ms/step - loss: 0.0117 - acc: 0.9990\n",
      "Epoch 70/100\n",
      "105/105 [==============================] - 6s 55ms/step - loss: 0.0098 - acc: 0.9997\n",
      "Epoch 71/100\n",
      "105/105 [==============================] - 6s 55ms/step - loss: 0.0173 - acc: 0.9969\n",
      "Epoch 72/100\n",
      "105/105 [==============================] - 6s 55ms/step - loss: 0.0156 - acc: 0.9960\n",
      "Epoch 73/100\n",
      "105/105 [==============================] - 6s 55ms/step - loss: 0.0851 - acc: 0.9711\n",
      "Epoch 74/100\n",
      "105/105 [==============================] - 6s 55ms/step - loss: 0.0169 - acc: 0.9966\n",
      "Epoch 75/100\n",
      "105/105 [==============================] - 6s 55ms/step - loss: 0.0118 - acc: 0.9983\n",
      "Epoch 76/100\n",
      "105/105 [==============================] - 6s 55ms/step - loss: 0.0177 - acc: 0.9947\n",
      "Epoch 77/100\n",
      "105/105 [==============================] - 6s 55ms/step - loss: 0.0179 - acc: 0.9948\n",
      "Epoch 78/100\n",
      "105/105 [==============================] - 6s 55ms/step - loss: 0.0110 - acc: 0.9966\n",
      "Epoch 79/100\n",
      "105/105 [==============================] - 6s 55ms/step - loss: 0.0067 - acc: 0.9994\n",
      "Epoch 80/100\n",
      "105/105 [==============================] - 6s 55ms/step - loss: 0.0109 - acc: 0.9950\n",
      "Epoch 81/100\n",
      "105/105 [==============================] - 6s 55ms/step - loss: 0.0031 - acc: 0.9998\n",
      "Epoch 82/100\n",
      "105/105 [==============================] - 6s 55ms/step - loss: 0.0054 - acc: 0.9998\n",
      "Epoch 83/100\n",
      "105/105 [==============================] - 6s 55ms/step - loss: 0.0103 - acc: 0.9962\n",
      "Epoch 84/100\n"
     ]
    },
    {
     "name": "stdout",
     "output_type": "stream",
     "text": [
      "105/105 [==============================] - 6s 55ms/step - loss: 0.0173 - acc: 0.9942\n",
      "Epoch 85/100\n",
      "105/105 [==============================] - 6s 54ms/step - loss: 0.0151 - acc: 0.9955\n",
      "Epoch 86/100\n",
      "105/105 [==============================] - 6s 55ms/step - loss: 0.0090 - acc: 0.9977\n",
      "Epoch 87/100\n",
      "105/105 [==============================] - 6s 55ms/step - loss: 0.0064 - acc: 0.9982\n",
      "Epoch 88/100\n",
      "105/105 [==============================] - 6s 55ms/step - loss: 0.0060 - acc: 0.9992\n",
      "Epoch 89/100\n",
      "105/105 [==============================] - 6s 54ms/step - loss: 0.0040 - acc: 0.9995\n",
      "Epoch 90/100\n",
      "105/105 [==============================] - 6s 55ms/step - loss: 0.0067 - acc: 0.9990\n",
      "Epoch 91/100\n",
      "105/105 [==============================] - 6s 55ms/step - loss: 0.0382 - acc: 0.9930\n",
      "Epoch 92/100\n",
      "105/105 [==============================] - 6s 55ms/step - loss: 0.0043 - acc: 0.9999\n",
      "Epoch 93/100\n",
      "105/105 [==============================] - 6s 55ms/step - loss: 0.0086 - acc: 0.9986\n",
      "Epoch 94/100\n",
      " 12/105 [==>...........................] - ETA: 5s - loss: 0.0100 - acc: 0.9947"
     ]
    },
    {
     "ename": "KeyboardInterrupt",
     "evalue": "",
     "output_type": "error",
     "traceback": [
      "\u001b[0;31m---------------------------------------------------------------------------\u001b[0m",
      "\u001b[0;31mKeyboardInterrupt\u001b[0m                         Traceback (most recent call last)",
      "\u001b[0;32m<ipython-input-17-6fab99e0d2de>\u001b[0m in \u001b[0;36m<module>\u001b[0;34m\u001b[0m\n\u001b[0;32m----> 1\u001b[0;31m \u001b[0mhistory\u001b[0m \u001b[0;34m=\u001b[0m \u001b[0mmodel\u001b[0m\u001b[0;34m.\u001b[0m\u001b[0mfit\u001b[0m\u001b[0;34m(\u001b[0m\u001b[0mx\u001b[0m\u001b[0;34m=\u001b[0m\u001b[0mX_train\u001b[0m\u001b[0;34m,\u001b[0m \u001b[0my\u001b[0m\u001b[0;34m=\u001b[0m\u001b[0my_train\u001b[0m\u001b[0;34m,\u001b[0m \u001b[0mepochs\u001b[0m\u001b[0;34m=\u001b[0m\u001b[0;36m100\u001b[0m\u001b[0;34m,\u001b[0m \u001b[0mbatch_size\u001b[0m\u001b[0;34m=\u001b[0m\u001b[0;36m16\u001b[0m\u001b[0;34m)\u001b[0m\u001b[0;34m\u001b[0m\u001b[0;34m\u001b[0m\u001b[0m\n\u001b[0m",
      "\u001b[0;32m~/.local/lib/python3.8/site-packages/tensorflow/python/keras/engine/training.py\u001b[0m in \u001b[0;36mfit\u001b[0;34m(self, x, y, batch_size, epochs, verbose, callbacks, validation_split, validation_data, shuffle, class_weight, sample_weight, initial_epoch, steps_per_epoch, validation_steps, validation_batch_size, validation_freq, max_queue_size, workers, use_multiprocessing)\u001b[0m\n\u001b[1;32m   1098\u001b[0m                 _r=1):\n\u001b[1;32m   1099\u001b[0m               \u001b[0mcallbacks\u001b[0m\u001b[0;34m.\u001b[0m\u001b[0mon_train_batch_begin\u001b[0m\u001b[0;34m(\u001b[0m\u001b[0mstep\u001b[0m\u001b[0;34m)\u001b[0m\u001b[0;34m\u001b[0m\u001b[0;34m\u001b[0m\u001b[0m\n\u001b[0;32m-> 1100\u001b[0;31m               \u001b[0mtmp_logs\u001b[0m \u001b[0;34m=\u001b[0m \u001b[0mself\u001b[0m\u001b[0;34m.\u001b[0m\u001b[0mtrain_function\u001b[0m\u001b[0;34m(\u001b[0m\u001b[0miterator\u001b[0m\u001b[0;34m)\u001b[0m\u001b[0;34m\u001b[0m\u001b[0;34m\u001b[0m\u001b[0m\n\u001b[0m\u001b[1;32m   1101\u001b[0m               \u001b[0;32mif\u001b[0m \u001b[0mdata_handler\u001b[0m\u001b[0;34m.\u001b[0m\u001b[0mshould_sync\u001b[0m\u001b[0;34m:\u001b[0m\u001b[0;34m\u001b[0m\u001b[0;34m\u001b[0m\u001b[0m\n\u001b[1;32m   1102\u001b[0m                 \u001b[0mcontext\u001b[0m\u001b[0;34m.\u001b[0m\u001b[0masync_wait\u001b[0m\u001b[0;34m(\u001b[0m\u001b[0;34m)\u001b[0m\u001b[0;34m\u001b[0m\u001b[0;34m\u001b[0m\u001b[0m\n",
      "\u001b[0;32m~/.local/lib/python3.8/site-packages/tensorflow/python/eager/def_function.py\u001b[0m in \u001b[0;36m__call__\u001b[0;34m(self, *args, **kwds)\u001b[0m\n\u001b[1;32m    826\u001b[0m     \u001b[0mtracing_count\u001b[0m \u001b[0;34m=\u001b[0m \u001b[0mself\u001b[0m\u001b[0;34m.\u001b[0m\u001b[0mexperimental_get_tracing_count\u001b[0m\u001b[0;34m(\u001b[0m\u001b[0;34m)\u001b[0m\u001b[0;34m\u001b[0m\u001b[0;34m\u001b[0m\u001b[0m\n\u001b[1;32m    827\u001b[0m     \u001b[0;32mwith\u001b[0m \u001b[0mtrace\u001b[0m\u001b[0;34m.\u001b[0m\u001b[0mTrace\u001b[0m\u001b[0;34m(\u001b[0m\u001b[0mself\u001b[0m\u001b[0;34m.\u001b[0m\u001b[0m_name\u001b[0m\u001b[0;34m)\u001b[0m \u001b[0;32mas\u001b[0m \u001b[0mtm\u001b[0m\u001b[0;34m:\u001b[0m\u001b[0;34m\u001b[0m\u001b[0;34m\u001b[0m\u001b[0m\n\u001b[0;32m--> 828\u001b[0;31m       \u001b[0mresult\u001b[0m \u001b[0;34m=\u001b[0m \u001b[0mself\u001b[0m\u001b[0;34m.\u001b[0m\u001b[0m_call\u001b[0m\u001b[0;34m(\u001b[0m\u001b[0;34m*\u001b[0m\u001b[0margs\u001b[0m\u001b[0;34m,\u001b[0m \u001b[0;34m**\u001b[0m\u001b[0mkwds\u001b[0m\u001b[0;34m)\u001b[0m\u001b[0;34m\u001b[0m\u001b[0;34m\u001b[0m\u001b[0m\n\u001b[0m\u001b[1;32m    829\u001b[0m       \u001b[0mcompiler\u001b[0m \u001b[0;34m=\u001b[0m \u001b[0;34m\"xla\"\u001b[0m \u001b[0;32mif\u001b[0m \u001b[0mself\u001b[0m\u001b[0;34m.\u001b[0m\u001b[0m_experimental_compile\u001b[0m \u001b[0;32melse\u001b[0m \u001b[0;34m\"nonXla\"\u001b[0m\u001b[0;34m\u001b[0m\u001b[0;34m\u001b[0m\u001b[0m\n\u001b[1;32m    830\u001b[0m       \u001b[0mnew_tracing_count\u001b[0m \u001b[0;34m=\u001b[0m \u001b[0mself\u001b[0m\u001b[0;34m.\u001b[0m\u001b[0mexperimental_get_tracing_count\u001b[0m\u001b[0;34m(\u001b[0m\u001b[0;34m)\u001b[0m\u001b[0;34m\u001b[0m\u001b[0;34m\u001b[0m\u001b[0m\n",
      "\u001b[0;32m~/.local/lib/python3.8/site-packages/tensorflow/python/eager/def_function.py\u001b[0m in \u001b[0;36m_call\u001b[0;34m(self, *args, **kwds)\u001b[0m\n\u001b[1;32m    853\u001b[0m       \u001b[0;31m# In this case we have created variables on the first call, so we run the\u001b[0m\u001b[0;34m\u001b[0m\u001b[0;34m\u001b[0m\u001b[0;34m\u001b[0m\u001b[0m\n\u001b[1;32m    854\u001b[0m       \u001b[0;31m# defunned version which is guaranteed to never create variables.\u001b[0m\u001b[0;34m\u001b[0m\u001b[0;34m\u001b[0m\u001b[0;34m\u001b[0m\u001b[0m\n\u001b[0;32m--> 855\u001b[0;31m       \u001b[0;32mreturn\u001b[0m \u001b[0mself\u001b[0m\u001b[0;34m.\u001b[0m\u001b[0m_stateless_fn\u001b[0m\u001b[0;34m(\u001b[0m\u001b[0;34m*\u001b[0m\u001b[0margs\u001b[0m\u001b[0;34m,\u001b[0m \u001b[0;34m**\u001b[0m\u001b[0mkwds\u001b[0m\u001b[0;34m)\u001b[0m  \u001b[0;31m# pylint: disable=not-callable\u001b[0m\u001b[0;34m\u001b[0m\u001b[0;34m\u001b[0m\u001b[0m\n\u001b[0m\u001b[1;32m    856\u001b[0m     \u001b[0;32melif\u001b[0m \u001b[0mself\u001b[0m\u001b[0;34m.\u001b[0m\u001b[0m_stateful_fn\u001b[0m \u001b[0;32mis\u001b[0m \u001b[0;32mnot\u001b[0m \u001b[0;32mNone\u001b[0m\u001b[0;34m:\u001b[0m\u001b[0;34m\u001b[0m\u001b[0;34m\u001b[0m\u001b[0m\n\u001b[1;32m    857\u001b[0m       \u001b[0;31m# Release the lock early so that multiple threads can perform the call\u001b[0m\u001b[0;34m\u001b[0m\u001b[0;34m\u001b[0m\u001b[0;34m\u001b[0m\u001b[0m\n",
      "\u001b[0;32m~/.local/lib/python3.8/site-packages/tensorflow/python/eager/function.py\u001b[0m in \u001b[0;36m__call__\u001b[0;34m(self, *args, **kwargs)\u001b[0m\n\u001b[1;32m   2940\u001b[0m       (graph_function,\n\u001b[1;32m   2941\u001b[0m        filtered_flat_args) = self._maybe_define_function(args, kwargs)\n\u001b[0;32m-> 2942\u001b[0;31m     return graph_function._call_flat(\n\u001b[0m\u001b[1;32m   2943\u001b[0m         filtered_flat_args, captured_inputs=graph_function.captured_inputs)  # pylint: disable=protected-access\n\u001b[1;32m   2944\u001b[0m \u001b[0;34m\u001b[0m\u001b[0m\n",
      "\u001b[0;32m~/.local/lib/python3.8/site-packages/tensorflow/python/eager/function.py\u001b[0m in \u001b[0;36m_call_flat\u001b[0;34m(self, args, captured_inputs, cancellation_manager)\u001b[0m\n\u001b[1;32m   1916\u001b[0m         and executing_eagerly):\n\u001b[1;32m   1917\u001b[0m       \u001b[0;31m# No tape is watching; skip to running the function.\u001b[0m\u001b[0;34m\u001b[0m\u001b[0;34m\u001b[0m\u001b[0;34m\u001b[0m\u001b[0m\n\u001b[0;32m-> 1918\u001b[0;31m       return self._build_call_outputs(self._inference_function.call(\n\u001b[0m\u001b[1;32m   1919\u001b[0m           ctx, args, cancellation_manager=cancellation_manager))\n\u001b[1;32m   1920\u001b[0m     forward_backward = self._select_forward_and_backward_functions(\n",
      "\u001b[0;32m~/.local/lib/python3.8/site-packages/tensorflow/python/eager/function.py\u001b[0m in \u001b[0;36mcall\u001b[0;34m(self, ctx, args, cancellation_manager)\u001b[0m\n\u001b[1;32m    553\u001b[0m       \u001b[0;32mwith\u001b[0m \u001b[0m_InterpolateFunctionError\u001b[0m\u001b[0;34m(\u001b[0m\u001b[0mself\u001b[0m\u001b[0;34m)\u001b[0m\u001b[0;34m:\u001b[0m\u001b[0;34m\u001b[0m\u001b[0;34m\u001b[0m\u001b[0m\n\u001b[1;32m    554\u001b[0m         \u001b[0;32mif\u001b[0m \u001b[0mcancellation_manager\u001b[0m \u001b[0;32mis\u001b[0m \u001b[0;32mNone\u001b[0m\u001b[0;34m:\u001b[0m\u001b[0;34m\u001b[0m\u001b[0;34m\u001b[0m\u001b[0m\n\u001b[0;32m--> 555\u001b[0;31m           outputs = execute.execute(\n\u001b[0m\u001b[1;32m    556\u001b[0m               \u001b[0mstr\u001b[0m\u001b[0;34m(\u001b[0m\u001b[0mself\u001b[0m\u001b[0;34m.\u001b[0m\u001b[0msignature\u001b[0m\u001b[0;34m.\u001b[0m\u001b[0mname\u001b[0m\u001b[0;34m)\u001b[0m\u001b[0;34m,\u001b[0m\u001b[0;34m\u001b[0m\u001b[0;34m\u001b[0m\u001b[0m\n\u001b[1;32m    557\u001b[0m               \u001b[0mnum_outputs\u001b[0m\u001b[0;34m=\u001b[0m\u001b[0mself\u001b[0m\u001b[0;34m.\u001b[0m\u001b[0m_num_outputs\u001b[0m\u001b[0;34m,\u001b[0m\u001b[0;34m\u001b[0m\u001b[0;34m\u001b[0m\u001b[0m\n",
      "\u001b[0;32m~/.local/lib/python3.8/site-packages/tensorflow/python/eager/execute.py\u001b[0m in \u001b[0;36mquick_execute\u001b[0;34m(op_name, num_outputs, inputs, attrs, ctx, name)\u001b[0m\n\u001b[1;32m     57\u001b[0m   \u001b[0;32mtry\u001b[0m\u001b[0;34m:\u001b[0m\u001b[0;34m\u001b[0m\u001b[0;34m\u001b[0m\u001b[0m\n\u001b[1;32m     58\u001b[0m     \u001b[0mctx\u001b[0m\u001b[0;34m.\u001b[0m\u001b[0mensure_initialized\u001b[0m\u001b[0;34m(\u001b[0m\u001b[0;34m)\u001b[0m\u001b[0;34m\u001b[0m\u001b[0;34m\u001b[0m\u001b[0m\n\u001b[0;32m---> 59\u001b[0;31m     tensors = pywrap_tfe.TFE_Py_Execute(ctx._handle, device_name, op_name,\n\u001b[0m\u001b[1;32m     60\u001b[0m                                         inputs, attrs, num_outputs)\n\u001b[1;32m     61\u001b[0m   \u001b[0;32mexcept\u001b[0m \u001b[0mcore\u001b[0m\u001b[0;34m.\u001b[0m\u001b[0m_NotOkStatusException\u001b[0m \u001b[0;32mas\u001b[0m \u001b[0me\u001b[0m\u001b[0;34m:\u001b[0m\u001b[0;34m\u001b[0m\u001b[0;34m\u001b[0m\u001b[0m\n",
      "\u001b[0;31mKeyboardInterrupt\u001b[0m: "
     ]
    }
   ],
   "source": [
    "history = model.fit(x=X_train, y=y_train, epochs=100, batch_size=16)"
   ]
  },
  {
   "cell_type": "code",
   "execution_count": 24,
   "metadata": {},
   "outputs": [],
   "source": [
    "#if the GPU is out of memory while testing, we may need to save the trained model, restart, then load the model. \n",
    "model.save('Multitest_BHBL.h5')"
   ]
  },
  {
   "cell_type": "code",
   "execution_count": 17,
   "metadata": {},
   "outputs": [],
   "source": [
    "model = keras.models.load_model('Multitest_BHBL.h5')"
   ]
  },
  {
   "cell_type": "code",
   "execution_count": 18,
   "metadata": {},
   "outputs": [
    {
     "data": {
      "text/plain": [
       "1.0"
      ]
     },
     "execution_count": 18,
     "metadata": {},
     "output_type": "execute_result"
    }
   ],
   "source": [
    "#check the accuracy.\n",
    "answer = np.argmax(model.predict(X_test), axis=1)\n",
    "answer_onehot = np.zeros((answer.size, answer.max()+1))\n",
    "answer_onehot[np.arange(answer.size),answer] = 1\n",
    "answer_decode = label_decode(label_encoder, answer_onehot)\n",
    "y_test_tmp = y_test\n",
    "index = 0\n",
    "correct = 0\n",
    "for item in answer_decode:\n",
    "    if(item == y_test_tmp[index]):\n",
    "        correct += 1\n",
    "    else:\n",
    "        print(index)\n",
    "    index += 1\n",
    "correct/index"
   ]
  },
  {
   "cell_type": "code",
   "execution_count": null,
   "metadata": {},
   "outputs": [],
   "source": []
  }
 ],
 "metadata": {
  "kernelspec": {
   "display_name": "Python 3",
   "language": "python",
   "name": "python3"
  },
  "language_info": {
   "codemirror_mode": {
    "name": "ipython",
    "version": 3
   },
   "file_extension": ".py",
   "mimetype": "text/x-python",
   "name": "python",
   "nbconvert_exporter": "python",
   "pygments_lexer": "ipython3",
   "version": "3.8.5"
  }
 },
 "nbformat": 4,
 "nbformat_minor": 2
}
